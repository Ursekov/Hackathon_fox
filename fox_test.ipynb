{
 "cells": [
  {
   "cell_type": "code",
   "execution_count": 1,
   "metadata": {},
   "outputs": [],
   "source": [
    "import pandas as pd\n",
    "from sklearn.metrics import precision_score, recall_score, f1_score\n",
    "from roboflow import Roboflow"
   ]
  },
  {
   "cell_type": "code",
   "execution_count": 2,
   "metadata": {},
   "outputs": [],
   "source": [
    "animals = pd.read_csv('animals.csv')"
   ]
  },
  {
   "cell_type": "code",
   "execution_count": 3,
   "metadata": {},
   "outputs": [
    {
     "name": "stdout",
     "output_type": "stream",
     "text": [
      "loading Roboflow workspace...\n",
      "loading Roboflow project...\n"
     ]
    },
    {
     "name": "stderr",
     "output_type": "stream",
     "text": [
      "Downloading Dataset Version Zip in Fox_Pic-2 to yolov5pytorch:: 100%|██████████| 34017/34017 [00:01<00:00, 20078.32it/s]"
     ]
    },
    {
     "name": "stdout",
     "output_type": "stream",
     "text": [
      "\n"
     ]
    },
    {
     "name": "stderr",
     "output_type": "stream",
     "text": [
      "\n",
      "Extracting Dataset Version Zip to Fox_Pic-2 in yolov5pytorch:: 100%|██████████| 650/650 [00:00<00:00, 4642.88it/s]\n"
     ]
    }
   ],
   "source": [
    "rf = Roboflow(api_key=\"Kw0KYDARwdD4mRdI62VS\")\n",
    "\n",
    "project = rf.workspace(\"mipt23\").project(\"fox_pic\")\n",
    "dataset = project.version(2).download(\"yolov5\")\n",
    "model = project.version(2).model"
   ]
  },
  {
   "cell_type": "code",
   "execution_count": 4,
   "metadata": {},
   "outputs": [
    {
     "name": "stderr",
     "output_type": "stream",
     "text": [
      "Setting an item of incompatible dtype is deprecated and will raise in a future error of pandas. Value 'True' has dtype incompatible with float64, please explicitly cast to a compatible dtype first.\n"
     ]
    }
   ],
   "source": [
    "for index, key in enumerate(animals['animal']):\n",
    "    img_url = \"Images/\" + key\n",
    "\n",
    "    # get json request from server\n",
    "    predictions = model.predict(img_url, confidence=70, overlap=30).json()\n",
    "\n",
    "    if len(predictions['predictions']) == 0:\n",
    "        animals.loc[index, 'prediction'] = False\n",
    "    else:\n",
    "        animals.loc[index, 'prediction'] = True\n",
    "        \n",
    "animals['prediction'] = animals['prediction'].astype('bool')"
   ]
  },
  {
   "cell_type": "code",
   "execution_count": 5,
   "metadata": {},
   "outputs": [],
   "source": [
    "precision = precision_score(animals['target'], animals['prediction'])\n",
    "recall = recall_score(animals['target'], animals['prediction'])\n",
    "f1 = f1_score(animals['target'], animals['prediction'])"
   ]
  },
  {
   "cell_type": "code",
   "execution_count": 7,
   "metadata": {},
   "outputs": [
    {
     "name": "stdout",
     "output_type": "stream",
     "text": [
      "precision: 0.6923076923076923\n",
      "recall_score: 0.9\n",
      "f1_score: 0.7826086956521738\n"
     ]
    }
   ],
   "source": [
    "print(f'precision: {precision}')\n",
    "print(f'recall_score: {recall}')\n",
    "print(f'f1_score: {f1}')"
   ]
  }
 ],
 "metadata": {
  "kernelspec": {
   "display_name": "FUN",
   "language": "python",
   "name": "python3"
  },
  "language_info": {
   "codemirror_mode": {
    "name": "ipython",
    "version": 3
   },
   "file_extension": ".py",
   "mimetype": "text/x-python",
   "name": "python",
   "nbconvert_exporter": "python",
   "pygments_lexer": "ipython3",
   "version": "3.10.11"
  }
 },
 "nbformat": 4,
 "nbformat_minor": 2
}
